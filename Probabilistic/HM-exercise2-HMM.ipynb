{
 "cells": [
  {
   "cell_type": "code",
   "execution_count": 4,
   "metadata": {},
   "outputs": [],
   "source": [
    "import numpy as np"
   ]
  },
  {
   "cell_type": "code",
   "execution_count": 39,
   "metadata": {},
   "outputs": [
    {
     "name": "stdout",
     "output_type": "stream",
     "text": [
      "[[0.18205878 0.46212909 0.35581214]\n",
      " [0.65738127 0.17132261 0.17129612]\n",
      " [0.03807826 0.56784481 0.39407693]]\n",
      "[[0.97175009 0.02824991]\n",
      " [0.5381355  0.4618645 ]\n",
      " [0.53870741 0.46129259]]\n",
      "[[0.18115758]\n",
      " [0.3005149 ]\n",
      " [0.51832752]]\n"
     ]
    }
   ],
   "source": [
    "#generate random parameter matrix\n",
    "\n",
    "np.random.seed(42)\n",
    "def generateFun(n1,n2):\n",
    "    temp = np.random.rand(n1,n2)\n",
    "    return temp/temp.sum(axis=1)[:,None]\n",
    "A = generateFun(3,3)\n",
    "B = generateFun(3,2)\n",
    "pi = generateFun(1,3).T\n",
    "print(A)\n",
    "print(B)\n",
    "print(pi)"
   ]
  },
  {
   "cell_type": "code",
   "execution_count": 44,
   "metadata": {},
   "outputs": [
    {
     "name": "stdout",
     "output_type": "stream",
     "text": [
      "(4, 1)\n"
     ]
    }
   ],
   "source": [
    "pi = np.array([0.2,0.4,0.4])\n",
    "pi.shape=(-1,1)\n",
    "print(pi.shape)"
   ]
  },
  {
   "cell_type": "code",
   "execution_count": 63,
   "metadata": {},
   "outputs": [
    {
     "name": "stdout",
     "output_type": "stream",
     "text": [
      "[[0.1 ]\n",
      " [0.16]\n",
      " [0.28]]\n",
      "0.130218\n"
     ]
    }
   ],
   "source": [
    "# implement forward function and check it with data\n",
    "\n",
    "O = [0,1,0]\n",
    "A = np.array([[0.5,0.2,0.3],[0.3,0.5,0.2],[0.2,0.3,0.5]])\n",
    "B = np.array([[0.5,0.5],[0.4,0.6],[0.7,0.3]])\n",
    "pi = np.array([0.2,0.4,0.4])\n",
    "pi.shape=(-1,1)\n",
    "def forward(A,B,pi,O):\n",
    "    # init the vector\n",
    "    temp = pi * B[:,0][:,None]\n",
    "    print(temp)\n",
    "    \n",
    "    for i in range(1,len(O)):\n",
    "        b = B[:,O[i]][:,None]\n",
    "        temp = np.matmul(A.T,temp)*b\n",
    "        #print(temp)\n",
    "    return temp.sum()\n",
    "print(forward(A,B,pi,O))\n",
    "#t = np.matmul(A,pi)       \n",
    "#print(t*pi)\n",
    "#print(B)\n",
    "#t = B[:,1][:,None]\n",
    "#print(type(t))\n",
    "#print(t.shape)\n",
    "#print(t)"
   ]
  },
  {
   "cell_type": "code",
   "execution_count": 30,
   "metadata": {},
   "outputs": [
    {
     "data": {
      "text/plain": [
       "array([[0.73271833],\n",
       "       [1.00067893],\n",
       "       [1.40095913]])"
      ]
     },
     "execution_count": 30,
     "metadata": {},
     "output_type": "execute_result"
    }
   ],
   "source": [
    "def backward(A, B, pi, O)"
   ]
  },
  {
   "cell_type": "code",
   "execution_count": 28,
   "metadata": {},
   "outputs": [
    {
     "name": "stdout",
     "output_type": "stream",
     "text": [
      "[0.73271833 1.00067893 1.40095913]\n",
      "<class 'numpy.ndarray'>\n",
      "(3,)\n",
      "[[0.72866861 0.01238654 0.13306207]\n",
      " [0.71081055 0.03279583 0.31909347]\n",
      " [0.78386441 0.51336847 0.22334007]]\n"
     ]
    },
    {
     "data": {
      "text/plain": [
       "array([2.22334357, 0.55855085, 0.67549561])"
      ]
     },
     "execution_count": 28,
     "metadata": {},
     "output_type": "execute_result"
    }
   ],
   "source": [
    "t = A.sum(axis=1)\n",
    "print(t.T)\n",
    "print(type(t))\n",
    "print(t.shape)\n",
    "\n",
    "b = A/t.T\n",
    "print(b)\n",
    "b.sum(axis=0)"
   ]
  }
 ],
 "metadata": {
  "kernelspec": {
   "display_name": "Python 3",
   "language": "python",
   "name": "python3"
  },
  "language_info": {
   "codemirror_mode": {
    "name": "ipython",
    "version": 3
   },
   "file_extension": ".py",
   "mimetype": "text/x-python",
   "name": "python",
   "nbconvert_exporter": "python",
   "pygments_lexer": "ipython3",
   "version": "3.6.4"
  }
 },
 "nbformat": 4,
 "nbformat_minor": 2
}
